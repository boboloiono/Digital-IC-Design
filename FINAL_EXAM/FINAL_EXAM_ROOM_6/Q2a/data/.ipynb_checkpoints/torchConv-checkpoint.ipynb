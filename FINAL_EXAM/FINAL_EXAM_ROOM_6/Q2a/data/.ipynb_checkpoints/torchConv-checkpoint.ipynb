{
 "cells": [
  {
   "cell_type": "code",
   "execution_count": 1,
   "id": "3fcb8093",
   "metadata": {},
   "outputs": [],
   "source": [
    "import torch.nn as nn\n",
    "import numpy as np\n",
    "import torch\n",
    "\n",
    "kernel = nn.Conv2d( \n",
    "    in_channels = 1, \n",
    "    out_channels = 1, \n",
    "    kernel_size = 3, \n",
    "    stride = 1 , \n",
    "    padding = 1 ,\n",
    "    padding_mode = \"replicate\", \n",
    "    dilation = 1 ,\n",
    "    groups = 1 , \n",
    "    bias = True \n",
    ")\n",
    "relu = nn.ReLU()\n",
    "maxpool = nn.MaxPool2d(2, stride=2)"
   ]
  },
  {
   "cell_type": "code",
   "execution_count": null,
   "id": "59b50ef9",
   "metadata": {},
   "outputs": [],
   "source": []
  },
  {
   "cell_type": "code",
   "execution_count": 2,
   "id": "aec5dc5d",
   "metadata": {},
   "outputs": [],
   "source": [
    "def ourKernel():\n",
    "    newKernel = np.array([[-0.0625,-0.25,-0.125],\n",
    "                          [0.0,1.,0.0],\n",
    "                          [-0.125,-0.25,-0.0625]]).reshape((1,1,3,3))\n",
    "    newKernel = nn.Parameter(torch.tensor(newKernel,dtype =torch.float32 ),requires_grad = False)\n",
    "    return newKernel"
   ]
  },
  {
   "cell_type": "code",
   "execution_count": 3,
   "id": "6ddd3669",
   "metadata": {},
   "outputs": [
    {
     "data": {
      "text/plain": [
       "torch.Size([1, 64, 64])"
      ]
     },
     "execution_count": 3,
     "metadata": {},
     "output_type": "execute_result"
    }
   ],
   "source": [
    "from torchvision import transforms\n",
    "\n",
    "from PIL import Image\n",
    "\n",
    "img = Image.open(r\"F:\\master1\\DicHomework\\finalExam\\3x3\\data\\bleach.png\")\n",
    "img = img.convert(\"L\")\n",
    "transform = transforms.Compose([\n",
    "    transforms.PILToTensor(),\n",
    "    transforms.Resize([64,64],antialias=True)\n",
    "#     transforms.Grayscale()\n",
    "#     transforms.ConvertImageDtype(torch.float32)\n",
    "])\n",
    "img_tensor = transform(img)\n",
    "img_tensor = img_tensor.to(torch.float32)\n",
    "img_tensor.shape\n",
    "# img_tensor"
   ]
  },
  {
   "cell_type": "code",
   "execution_count": 4,
   "id": "ca724794",
   "metadata": {},
   "outputs": [
    {
     "data": {
      "text/plain": [
       "Parameter containing:\n",
       "tensor([[[[-0.0625, -0.2500, -0.1250],\n",
       "          [ 0.0000,  1.0000,  0.0000],\n",
       "          [-0.1250, -0.2500, -0.0625]]]])"
      ]
     },
     "execution_count": 4,
     "metadata": {},
     "output_type": "execute_result"
    }
   ],
   "source": [
    "kernel.weight = ourKernel()\n",
    "kernel.weight"
   ]
  },
  {
   "cell_type": "code",
   "execution_count": 5,
   "id": "93a79641",
   "metadata": {},
   "outputs": [
    {
     "data": {
      "text/plain": [
       "Parameter containing:\n",
       "tensor([-0.7500])"
      ]
     },
     "execution_count": 5,
     "metadata": {},
     "output_type": "execute_result"
    }
   ],
   "source": [
    "kernel.bias = nn.Parameter(torch.tensor([-0.75],dtype = torch.float32),requires_grad = False)\n",
    "kernel.bias"
   ]
  },
  {
   "cell_type": "code",
   "execution_count": 6,
   "id": "a9776dca",
   "metadata": {},
   "outputs": [],
   "source": [
    "afterConv = kernel(img_tensor)\n",
    "# print(afterConv)\n",
    "afterRelu = relu(afterConv)\n",
    "afterMaxpool = maxpool(afterRelu)\n",
    "# afterMaxpool = afterRelu\n",
    "afterCeiling = torch.ceil(afterMaxpool)\n"
   ]
  },
  {
   "cell_type": "code",
   "execution_count": 7,
   "id": "27d3008b",
   "metadata": {},
   "outputs": [
    {
     "data": {
      "text/plain": [
       "torch.Size([1, 32, 32])"
      ]
     },
     "execution_count": 7,
     "metadata": {},
     "output_type": "execute_result"
    }
   ],
   "source": [
    "result_tensor = afterCeiling\n",
    "result_tensor.shape"
   ]
  },
  {
   "cell_type": "code",
   "execution_count": 8,
   "id": "57547c9d",
   "metadata": {},
   "outputs": [
    {
     "data": {
      "text/plain": [
       "True"
      ]
     },
     "execution_count": 8,
     "metadata": {},
     "output_type": "execute_result"
    },
    {
     "data": {
      "image/png": "[encoded data removed]",
      "text/plain": [
       "<Figure size 640x480 with 1 Axes>"
      ]
     },
     "metadata": {},
     "output_type": "display_data"
    }
   ],
   "source": [
    "from matplotlib import pyplot as plt\n",
    "import cv2\n",
    "plt.axis(\"off\")\n",
    "plt.imshow(afterRelu.squeeze(),cmap='gray', vmin=0, vmax=255)\n",
    "\n",
    "# plt.savefig(r\"F:\\master1\\DicHomework\\hw4\\afterRelu.png\", bbox_inches='tight')\n",
    "cv2.imwrite(r\"./afterRelu.png\",afterRelu.squeeze().numpy())"
   ]
  },
  {
   "cell_type": "code",
   "execution_count": 9,
   "id": "b461fff8",
   "metadata": {},
   "outputs": [
    {
     "data": {
      "text/plain": [
       "True"
      ]
     },
     "execution_count": 9,
     "metadata": {},
     "output_type": "execute_result"
    },
    {
     "data": {
      "image/png": "[encoded data removed]",
      "text/plain": [
       "<Figure size 640x480 with 1 Axes>"
      ]
     },
     "metadata": {},
     "output_type": "display_data"
    }
   ],
   "source": [
    "plt.imshow(img_tensor.squeeze(),cmap='gray', vmin=0, vmax=255)\n",
    "plt.axis(\"off\")\n",
    "# plt.savefig(r\"F:\\master1\\DicHomework\\hw4\\resizedImg.png\", bbox_inches='tight')\n",
    "cv2.imwrite(r\"./resizedImg.png\",img_tensor.squeeze().numpy())"
   ]
  },
  {
   "cell_type": "code",
   "execution_count": 10,
   "id": "6411bb5e",
   "metadata": {},
   "outputs": [
    {
     "data": {
      "text/plain": [
       "True"
      ]
     },
     "execution_count": 10,
     "metadata": {},
     "output_type": "execute_result"
    },
    {
     "data": {
      "image/png": "[encoded data removed]",
      "text/plain": [
       "<Figure size 640x480 with 1 Axes>"
      ]
     },
     "metadata": {},
     "output_type": "display_data"
    }
   ],
   "source": [
    "plt.imshow(result_tensor.squeeze(),cmap='gray', vmin=0, vmax=255)\n",
    "plt.axis(\"off\")\n",
    "# plt.savefig(r\"F:\\master1\\DicHomework\\hw4\\result.png\", bbox_inches='tight')\n",
    "cv2.imwrite(r\"./result.png\",result_tensor.squeeze().numpy())"
   ]
  },
  {
   "cell_type": "code",
   "execution_count": 11,
   "id": "9c3f72a5",
   "metadata": {},
   "outputs": [],
   "source": [
    "# from pathlib import Path\n",
    "\n",
    "# cwd = Path.cwd()\n",
    "# print(cwd)\n",
    "# imgDataPath = cwd/\"img.dat\"\n",
    "# afterConvDataPath = cwd/\"Conv.dat\"\n",
    "# goldenDataPath = cwd/\"golden.dat\"\n",
    "# if not imgDataPath.exists():\n",
    "#     imgDataPath.touch()\n",
    "\n",
    "# if not goldenDataPath.exists():\n",
    "#     goldenDataPath.touch()\n",
    "# if not afterConvDataPath.exists():\n",
    "#     afterConvDataPath.touch()\n",
    "\n",
    "\n",
    "\n",
    "# with open(imgDataPath, mode=\"w+\") as file:\n",
    "#     # write text to the file\n",
    "#     for i  in img_tensor.flatten():\n",
    "#         file.write(str(int(i))+\"\\n\")\n",
    "    \n",
    "# with open(goldenDataPath, mode=\"w+\") as file:\n",
    "#     # write text to the file\n",
    "#     for i  in result_tensor.flatten():\n",
    "#         file.write(str(int(i))+\"\\n\")\n",
    "# with open(afterConvDataPath, mode=\"w+\") as file:\n",
    "#     # write text to the file\n",
    "#     for i  in afterConv.flatten():\n",
    "#         file.write(str(i.numpy())+\"\\n\")"
   ]
  },
  {
   "cell_type": "code",
   "execution_count": 12,
   "id": "2ae84bfd",
   "metadata": {},
   "outputs": [
    {
     "data": {
      "text/plain": [
       "tensor([[[ 7.,  7.,  7.,  ...,  8.,  8.,  8.],\n",
       "         [ 3.,  6.,  6.,  ...,  6.,  6.,  6.],\n",
       "         [ 5.,  8.,  6.,  ...,  8.,  7.,  9.],\n",
       "         ...,\n",
       "         [19., 15., 13.,  ...,  1.,  1.,  2.],\n",
       "         [16., 20., 20.,  ...,  1.,  2.,  2.],\n",
       "         [13., 13., 12.,  ...,  1.,  7.,  1.]]])"
      ]
     },
     "execution_count": 12,
     "metadata": {},
     "output_type": "execute_result"
    }
   ],
   "source": [
    "result_tensor"
   ]
  },
  {
   "cell_type": "code",
   "execution_count": 13,
   "id": "9c9fc5d4",
   "metadata": {},
   "outputs": [],
   "source": [
    "from fxpmath import Fxp\n",
    "\n",
    "x = Fxp(afterMaxpool.numpy(),signed=True,n_word=13,n_frac=4)"
   ]
  },
  {
   "cell_type": "code",
   "execution_count": 14,
   "id": "2726c048",
   "metadata": {},
   "outputs": [
    {
     "name": "stdout",
     "output_type": "stream",
     "text": [
      "\tdtype\t\t=\tfxp-s13/4\n",
      "\tValue\t\t=\t[[[ 6.5625  6.9375  6.75   ...  7.5625  7.4375  7.0625]\n",
      "  [ 2.8125  5.75    5.9375 ...  5.1875  5.375   5.9375]\n",
      "  [ 4.0625  7.125   5.8125 ...  7.125   6.5625  8.5625]\n",
      "  ...\n",
      "  [18.4375 14.4375 12.875  ...  0.9375  0.9375  1.4375]\n",
      "  [15.375  19.375  19.75   ...  0.6875  1.375   1.625 ]\n",
      "  [12.75   12.1875 11.25   ...  0.625   6.8125  0.1875]]]\n",
      "\n",
      "\tSigned\t\t=\tTrue\n",
      "\tWord bits\t=\t13\n",
      "\tFract bits\t=\t4\n",
      "\tInt bits\t=\t8\n",
      "\tVal data type\t=\t<class 'float'>\n",
      "\n",
      "\tUpper\t\t=\t255.9375\n",
      "\tLower\t\t=\t-256.0\n",
      "\tPrecision\t=\t0.0625\n",
      "\tOverflow\t=\tsaturate\n",
      "\tRounding\t=\ttrunc\n",
      "\tShifting\t=\texpand\n",
      "\n"
     ]
    }
   ],
   "source": [
    "x.info(verbose=3)"
   ]
  },
  {
   "cell_type": "code",
   "execution_count": 15,
   "id": "b20955bc",
   "metadata": {},
   "outputs": [],
   "source": [
    "# Path(\"./modelsimRoot/data\").mkdir(exist_ok=True)"
   ]
  },
  {
   "cell_type": "code",
   "execution_count": 16,
   "id": "0f104ff1",
   "metadata": {},
   "outputs": [
    {
     "name": "stdout",
     "output_type": "stream",
     "text": [
      "torch.Size([1, 64, 64])\n",
      "['0001010000000' '0001011010000' '0001100010000' ... '0000101010000'\n",
      " '0000011000000' '0000010100000']\n"
     ]
    }
   ],
   "source": [
    "# img_dat generator\n",
    "print(img_tensor.shape)\n",
    "imgBin = Fxp(img_tensor.numpy(),signed=True,n_word=13,n_frac=4)\n",
    "print(imgBin.bin()[0].flatten())\n",
    "imgBinFlatten =imgBin.bin()[0].flatten()\n",
    "\n",
    "imgFlatten = img_tensor.flatten().numpy()\n",
    "\n",
    "imgFlatten\n",
    "\n",
    "with open(\"./img.dat\",\"w+\") as imgFile:\n",
    "    for i,(binVal,decVal) in enumerate(zip(imgBinFlatten,imgFlatten)):\n",
    "#         print(binVal,decVal)\n",
    "        imgFile.write(f\"{binVal} //data {i}: {decVal}\\n\")"
   ]
  },
  {
   "cell_type": "code",
   "execution_count": 17,
   "id": "a5fe3244",
   "metadata": {},
   "outputs": [
    {
     "name": "stdout",
     "output_type": "stream",
     "text": [
      "torch.Size([1, 64, 64])\n",
      "(64, 64)\n",
      "(4096,)\n"
     ]
    }
   ],
   "source": [
    "# afterRelu generator\n",
    "print(afterRelu.shape)\n",
    "afterReluBin = Fxp(afterRelu.numpy(),signed=True,n_word=13,n_frac=4)\n",
    "print(afterReluBin.bin()[0].shape)\n",
    "afterReluBinFlatten = afterReluBin.bin()[0].flatten()\n",
    "afterReluFlatten = afterRelu.flatten().numpy()\n",
    "print(afterReluFlatten.shape)\n",
    "with open(\"./layer0_golden.dat\",\"w+\") as imgFile:\n",
    "    for i,(binVal,decVal) in enumerate(zip(afterReluBinFlatten,afterReluFlatten)):\n",
    "#         print(binVal,decVal)\n",
    "        imgFile.write(f\"{binVal} //data {i}: {decVal}\\n\")"
   ]
  },
  {
   "cell_type": "code",
   "execution_count": 18,
   "id": "213b9a15",
   "metadata": {},
   "outputs": [
    {
     "name": "stdout",
     "output_type": "stream",
     "text": [
      "torch.Size([1, 32, 32])\n",
      "(32, 32)\n"
     ]
    }
   ],
   "source": [
    "# result\n",
    "print(result_tensor.shape)\n",
    "resultBin = Fxp(result_tensor.numpy(),signed=True,n_word=13,n_frac=4)\n",
    "print(resultBin.bin()[0].shape)\n",
    "resultBinFlatten = resultBin.bin()[0].flatten()\n",
    "resultFlatten = result_tensor.flatten().numpy()\n",
    "\n",
    "with open(\"./layer1_golden.dat\",\"w+\") as imgFile:\n",
    "    for i,(binVal,decVal) in enumerate(zip(resultBinFlatten,resultFlatten)):\n",
    "#         print(binVal,decVal)\n",
    "        imgFile.write(f\"{binVal} //data {i}: {decVal}\\n\")"
   ]
  },
  {
   "cell_type": "code",
   "execution_count": 19,
   "id": "09a646e7",
   "metadata": {},
   "outputs": [
    {
     "data": {
      "text/plain": [
       "1024"
      ]
     },
     "execution_count": 19,
     "metadata": {},
     "output_type": "execute_result"
    }
   ],
   "source": [
    "len(resultBinFlatten)"
   ]
  },
  {
   "cell_type": "code",
   "execution_count": 20,
   "id": "fffc8782",
   "metadata": {},
   "outputs": [
    {
     "data": {
      "text/plain": [
       "[array([[['0x1FFF', '0x1FFC', '0x1FFE'],\n",
       "         ['0x0000', '0x0010', '0x0000'],\n",
       "         ['0x1FFE', '0x1FFC', '0x1FFF']]], dtype='<U6')]"
      ]
     },
     "execution_count": 20,
     "metadata": {},
     "output_type": "execute_result"
    }
   ],
   "source": [
    "Fxp(kernel.weight.numpy(),signed=True,n_word=13,n_frac=4).hex()\n"
   ]
  },
  {
   "cell_type": "code",
   "execution_count": 21,
   "id": "b025e37e",
   "metadata": {},
   "outputs": [
    {
     "data": {
      "text/plain": [
       "'0x1FF4'"
      ]
     },
     "execution_count": 21,
     "metadata": {},
     "output_type": "execute_result"
    }
   ],
   "source": [
    "from fxpmath import Fxp\n",
    "Fxp(kernel.bias.numpy(),signed=True,n_word=13,n_frac=4).hex()"
   ]
  },
  {
   "cell_type": "code",
   "execution_count": 22,
   "id": "7819e4a0",
   "metadata": {},
   "outputs": [
    {
     "data": {
      "text/plain": [
       "Parameter containing:\n",
       "tensor([[[[-0.0625, -0.2500, -0.1250],\n",
       "          [ 0.0000,  1.0000,  0.0000],\n",
       "          [-0.1250, -0.2500, -0.0625]]]])"
      ]
     },
     "execution_count": 22,
     "metadata": {},
     "output_type": "execute_result"
    }
   ],
   "source": [
    "kernel.weight"
   ]
  },
  {
   "cell_type": "code",
   "execution_count": null,
   "id": "950ced35",
   "metadata": {},
   "outputs": [],
   "source": []
  }
 ],
 "metadata": {
  "kernelspec": {
   "display_name": "Python 3 (ipykernel)",
   "language": "python",
   "name": "python3"
  },
  "language_info": {
   "codemirror_mode": {
    "name": "ipython",
    "version": 3
   },
   "file_extension": ".py",
   "mimetype": "text/x-python",
   "name": "python",
   "nbconvert_exporter": "python",
   "pygments_lexer": "ipython3",
   "version": "3.9.12"
  }
 },
 "nbformat": 4,
 "nbformat_minor": 5
}
